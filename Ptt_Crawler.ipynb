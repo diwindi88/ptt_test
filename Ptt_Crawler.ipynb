{
 "cells": [
  {
   "cell_type": "code",
   "execution_count": 52,
   "metadata": {
    "collapsed": false
   },
   "outputs": [],
   "source": [
    "import requests\n",
    "from bs4 import BeautifulSoup\n",
    "from datetime import date,datetime\n",
    "import re"
   ]
  },
  {
   "cell_type": "code",
   "execution_count": 53,
   "metadata": {
    "collapsed": false
   },
   "outputs": [],
   "source": [
    "def pageDetail(detailurl):\n",
    "    res = requests.get(detailurl)\n",
    "    soup = BeautifulSoup(res.text, 'html.parser')\n",
    "    i = 1\n",
    "    push = \"\"\n",
    "    \n",
    "    if len(soup.select('#main-content')[0].contents) > 4:\n",
    "        # 抓取內文\n",
    "        summary = soup.select('#main-content')[0].contents[4]\n",
    "        # 抓取時間\n",
    "        time = soup.select('.article-meta-value')[3].text\n",
    "        dt =datetime.strptime(time, '%a %b %d %H:%M:%S %Y')\n",
    "        \n",
    "        if (len(soup.select('#main-content')[0].select('.push')) > 0):\n",
    "            for push_text in soup.select('#main-content')[0].select('.push'):\n",
    "                push = push + str(i) + push_text.text\n",
    "                i = i + 1\n",
    "        # 以字典回傳資料\n",
    "        return {'summary': summary, 'dt': dt, 'push': push}\n",
    "\n",
    "#d = pageDetail('https://www.ptt.cc/bbs/creditcard/M.1469180146.A.1D0.html')"
   ]
  },
  {
   "cell_type": "code",
   "execution_count": 54,
   "metadata": {
    "collapsed": false
   },
   "outputs": [],
   "source": [
    "home_page = 'https://www.ptt.cc/bbs/Salary/index.html'\n",
    "home_section = requests.get(home_page)\n",
    "home_soup = BeautifulSoup(home_section.text, 'html.parser')\n",
    "\n",
    "controls = home_soup.find('div', 'btn-group-paging').find_all('a', 'btn')\n",
    "\n",
    "link = controls[1].get('href')\n",
    "max_page = int(re.findall('\\d+', link)[0]) + 1\n",
    "min_page = 2375\n",
    "#min_page = 1"
   ]
  },
  {
   "cell_type": "code",
   "execution_count": 55,
   "metadata": {
    "collapsed": false
   },
   "outputs": [
    {
     "name": "stdout",
     "output_type": "stream",
     "text": [
      "2380\n",
      "2379\n",
      "2378\n",
      "2377\n",
      "2376\n"
     ]
    }
   ],
   "source": [
    "domain = 'https://www.ptt.cc'\n",
    "#建立空 List\n",
    "pttary = []\n",
    "for page in range(max_page,min_page,-1):\n",
    "    #紀錄一下跑到哪\n",
    "    print(page)\n",
    "    \n",
    "    ptturl = 'https://www.ptt.cc/bbs/Salary/index{}.html'.format(page)\n",
    "    #使用format 更新頁數\n",
    "    section = requests.get(ptturl.format(page))\n",
    "    #將資料讀取至BeautifulSoup\n",
    "    soup = BeautifulSoup(section.text, 'html.parser')\n",
    "    #分別抓取各標籤元素\n",
    "    for ent in soup.select('.r-ent'): \n",
    "        if len(ent.select('a')) >0:\n",
    "            dic = {}\n",
    "            dic['title'] = ent.select('.title')[0].text\n",
    "            dic['link'] = domain + ent.select('a')[0]['href']\n",
    "            #更新內容頁抓取到的資料\n",
    "            dic.update(pageDetail(dic['link']))\n",
    "            pttary.append(dic)"
   ]
  },
  {
   "cell_type": "code",
   "execution_count": 48,
   "metadata": {
    "collapsed": false
   },
   "outputs": [
    {
     "data": {
      "text/html": [
       "<div>\n",
       "<table border=\"1\" class=\"dataframe\">\n",
       "  <thead>\n",
       "    <tr style=\"text-align: right;\">\n",
       "      <th></th>\n",
       "      <th>dt</th>\n",
       "      <th>link</th>\n",
       "      <th>push</th>\n",
       "      <th>summary</th>\n",
       "      <th>title</th>\n",
       "    </tr>\n",
       "  </thead>\n",
       "  <tbody>\n",
       "    <tr>\n",
       "      <th>0</th>\n",
       "      <td>2017-04-22 10:28:21</td>\n",
       "      <td>https://www.ptt.cc/bbs/Salary/M.1492828105.A.1...</td>\n",
       "      <td>1推 kynoko: 從政如果老闆扶搖直上真的有入閣機會，看你要不要賭 04/22 10:3...</td>\n",
       "      <td>A  公司(現職) 建設公司採購4年\n",
       "\n",
       "   年薪60-70(南部)\n",
       "\n",
       "   工作穩定 ...</td>\n",
       "      <td>\\n[問題]   建設公司採購 VS 議員候選人助理\\n</td>\n",
       "    </tr>\n",
       "    <tr>\n",
       "      <th>1</th>\n",
       "      <td>2017-04-22 12:07:24</td>\n",
       "      <td>https://www.ptt.cc/bbs/Salary/M.1492834047.A.3...</td>\n",
       "      <td>1推 stevenju: 我會去啦 去了跳槽機會也多 04/22 12:15\\n2→ ste...</td>\n",
       "      <td>長駐三年\n",
       "\n",
       "有租公寓一層...一人一間房間..\n",
       "\n",
       "公司包住包水電，上班往返有交通車\n",
       "\n",
       "宿舍...</td>\n",
       "      <td>\\n[問題] 公司在找人外派新加坡..\\n</td>\n",
       "    </tr>\n",
       "    <tr>\n",
       "      <th>2</th>\n",
       "      <td>2017-04-22 12:34:59</td>\n",
       "      <td>https://www.ptt.cc/bbs/Salary/M.1492835703.A.F...</td>\n",
       "      <td>1推 timxdada: 台灣紡織夕陽產業，話至此剩下自己領悟吧 04/22 12:55\\n...</td>\n",
       "      <td>想請問台南的台南紡織，也就是簡稱的南紡，\n",
       "\n",
       "在儲備幹部這個職位的環境安全性如何，是與機械相...</td>\n",
       "      <td>\\n[問題] 南紡工作安全問題\\n</td>\n",
       "    </tr>\n",
       "    <tr>\n",
       "      <th>3</th>\n",
       "      <td>2017-04-22 12:35:46</td>\n",
       "      <td>https://www.ptt.cc/bbs/Salary/M.1492835748.A.1...</td>\n",
       "      <td>1→ HAPPY4ARIEL:  tax板 04/22 12:48\\n2→ HAPPY4AR...</td>\n",
       "      <td>不好意思因為不知道該去哪個版問，如果有正確的版還請大家分享一下\n",
       "\n",
       "不會報稅，想請問腦袋清楚...</td>\n",
       "      <td>\\n[問題] 想問繳稅問題\\n</td>\n",
       "    </tr>\n",
       "    <tr>\n",
       "      <th>4</th>\n",
       "      <td>2017-04-22 13:30:39</td>\n",
       "      <td>https://www.ptt.cc/bbs/Salary/M.1492839042.A.8...</td>\n",
       "      <td>1推 JFLung9536: 因為你不是他的人阿 04/22 13:57\\n2噓 yamak...</td>\n",
       "      <td>小弟認為有些嚴重，不曉得如何處理，以前未曾碰過類似情形故來請教網友。\n",
       "\n",
       "現任直屬主管是協...</td>\n",
       "      <td>\\n[問題] 越級指揮的主管如何共事？\\n</td>\n",
       "    </tr>\n",
       "  </tbody>\n",
       "</table>\n",
       "</div>"
      ],
      "text/plain": [
       "                   dt                                               link  \\\n",
       "0 2017-04-22 10:28:21  https://www.ptt.cc/bbs/Salary/M.1492828105.A.1...   \n",
       "1 2017-04-22 12:07:24  https://www.ptt.cc/bbs/Salary/M.1492834047.A.3...   \n",
       "2 2017-04-22 12:34:59  https://www.ptt.cc/bbs/Salary/M.1492835703.A.F...   \n",
       "3 2017-04-22 12:35:46  https://www.ptt.cc/bbs/Salary/M.1492835748.A.1...   \n",
       "4 2017-04-22 13:30:39  https://www.ptt.cc/bbs/Salary/M.1492839042.A.8...   \n",
       "\n",
       "                                                push  \\\n",
       "0  1推 kynoko: 從政如果老闆扶搖直上真的有入閣機會，看你要不要賭 04/22 10:3...   \n",
       "1  1推 stevenju: 我會去啦 去了跳槽機會也多 04/22 12:15\\n2→ ste...   \n",
       "2  1推 timxdada: 台灣紡織夕陽產業，話至此剩下自己領悟吧 04/22 12:55\\n...   \n",
       "3  1→ HAPPY4ARIEL:  tax板 04/22 12:48\\n2→ HAPPY4AR...   \n",
       "4  1推 JFLung9536: 因為你不是他的人阿 04/22 13:57\\n2噓 yamak...   \n",
       "\n",
       "                                             summary  \\\n",
       "0  \n",
       "\n",
       "A  公司(現職) 建設公司採購4年\n",
       "\n",
       "   年薪60-70(南部)\n",
       "\n",
       "   工作穩定 ...   \n",
       "1  \n",
       "長駐三年\n",
       "\n",
       "有租公寓一層...一人一間房間..\n",
       "\n",
       "公司包住包水電，上班往返有交通車\n",
       "\n",
       "宿舍...   \n",
       "2  \n",
       "想請問台南的台南紡織，也就是簡稱的南紡，\n",
       "\n",
       "在儲備幹部這個職位的環境安全性如何，是與機械相...   \n",
       "3  \n",
       "不好意思因為不知道該去哪個版問，如果有正確的版還請大家分享一下\n",
       "\n",
       "不會報稅，想請問腦袋清楚...   \n",
       "4  \n",
       "\n",
       "小弟認為有些嚴重，不曉得如何處理，以前未曾碰過類似情形故來請教網友。\n",
       "\n",
       "現任直屬主管是協...   \n",
       "\n",
       "                          title  \n",
       "0  \\n[問題]   建設公司採購 VS 議員候選人助理\\n  \n",
       "1         \\n[問題] 公司在找人外派新加坡..\\n  \n",
       "2             \\n[問題] 南紡工作安全問題\\n  \n",
       "3               \\n[問題] 想問繳稅問題\\n  \n",
       "4         \\n[問題] 越級指揮的主管如何共事？\\n  "
      ]
     },
     "execution_count": 48,
     "metadata": {},
     "output_type": "execute_result"
    }
   ],
   "source": [
    "import pandas\n",
    "df = pandas.DataFrame(pttary)\n",
    "df.head()"
   ]
  },
  {
   "cell_type": "code",
   "execution_count": 58,
   "metadata": {
    "collapsed": false
   },
   "outputs": [],
   "source": [
    "#print(pttary[5]['push'])\n",
    "len(pttary)\n",
    "with open('df.json', 'w', encoding='utf-8') as file:\n",
    "    df.to_json(file, force_ascii=False)\n",
    "df.to_excel('df.xlsx')"
   ]
  },
  {
   "cell_type": "code",
   "execution_count": null,
   "metadata": {
    "collapsed": true
   },
   "outputs": [],
   "source": []
  }
 ],
 "metadata": {
  "kernelspec": {
   "display_name": "Python 3",
   "language": "python",
   "name": "python3"
  },
  "language_info": {
   "codemirror_mode": {
    "name": "ipython",
    "version": 3
   },
   "file_extension": ".py",
   "mimetype": "text/x-python",
   "name": "python",
   "nbconvert_exporter": "python",
   "pygments_lexer": "ipython3",
   "version": "3.6.0"
  }
 },
 "nbformat": 4,
 "nbformat_minor": 2
}
